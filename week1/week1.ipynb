{
  "nbformat": 4,
  "nbformat_minor": 0,
  "metadata": {
    "colab": {
      "name": "week1.ipynb",
      "provenance": [],
      "collapsed_sections": []
    },
    "kernelspec": {
      "name": "python3",
      "display_name": "Python 3"
    },
    "language_info": {
      "name": "python"
    }
  },
  "cells": [
    {
      "cell_type": "markdown",
      "metadata": {
        "id": "SQtcB2XRxVAz"
      },
      "source": [
        "## Imports"
      ]
    },
    {
      "cell_type": "code",
      "metadata": {
        "id": "9xe3X80_t6Kg"
      },
      "source": [
        "import csv\n",
        "import pandas as pd\n",
        "import numpy as np\n",
        "from sklearn.preprocessing import MinMaxScaler\n",
        "\n",
        "path = r'/content/drive/MyDrive/Colab Notebooks/week1/report.csv'\n",
        "df = pd.read_csv(path)"
      ],
      "execution_count": 14,
      "outputs": []
    },
    {
      "cell_type": "code",
      "source": [
        "from google.colab import drive\n",
        "drive.mount('/content/drive')"
      ],
      "metadata": {
        "colab": {
          "base_uri": "https://localhost:8080/"
        },
        "id": "yY1Dn7g8DbXa",
        "outputId": "15bddcbd-3966-4621-e80d-9103a2ff5929"
      },
      "execution_count": 15,
      "outputs": [
        {
          "output_type": "stream",
          "name": "stdout",
          "text": [
            "Drive already mounted at /content/drive; to attempt to forcibly remount, call drive.mount(\"/content/drive\", force_remount=True).\n"
          ]
        }
      ]
    },
    {
      "cell_type": "markdown",
      "metadata": {
        "id": "Fv01ucEKxa1V"
      },
      "source": [
        "## Число строк в полученной выборке"
      ]
    },
    {
      "cell_type": "code",
      "metadata": {
        "colab": {
          "base_uri": "https://localhost:8080/"
        },
        "id": "gSuViNJUz52i",
        "outputId": "1fc12387-554a-453f-fdd7-5ab1480507c6"
      },
      "source": [
        "df = df[((df['TARGET'] == 0) & (df['MIP'] >= 82.9453125) & (df['MIP'] <= 84.3515625)) | ((df['TARGET'] == 1) & (df['MIP'] >= 83.7734375) & (df['MIP'] <= 92.6015625))]\n",
        "print(len(df))\n",
        "print(df)"
      ],
      "execution_count": 16,
      "outputs": [
        {
          "output_type": "stream",
          "name": "stdout",
          "text": [
            "202\n",
            "             MIP      STDIP      EKIP  ...        EKC          SC  TARGET\n",
            "187    84.742188  40.007274  1.368957  ...   5.979603   36.147975       1\n",
            "190    91.828125  34.111744  1.446682  ...   7.235101   53.582074       1\n",
            "280    83.679688  36.379281  0.572532  ...   7.006681   53.514005       0\n",
            "342    84.039062  38.943951  0.668007  ...  11.433532  161.907833       0\n",
            "385    84.273438  38.399975  0.662579  ...   8.407608   86.913036       0\n",
            "...          ...        ...       ...  ...        ...         ...     ...\n",
            "17425  84.695312  49.348499  0.960378  ...   6.181768   40.399247       1\n",
            "17467  83.773438  52.279031  1.206698  ...   0.132639   -1.683188       1\n",
            "17555  84.289062  38.725224  0.533822  ...   9.864013  115.332025       0\n",
            "17565  84.304688  32.877271  0.910484  ...   8.192144   72.083951       0\n",
            "17844  83.507812  34.670321  1.079368  ...  11.980909  159.930732       0\n",
            "\n",
            "[202 rows x 9 columns]\n"
          ]
        }
      ]
    },
    {
      "cell_type": "markdown",
      "source": [
        "## Выборочное среднее для столбца MIP"
      ],
      "metadata": {
        "id": "U4KYrusIKk-5"
      }
    },
    {
      "cell_type": "code",
      "source": [
        "print(np.mean(df['MIP']))"
      ],
      "metadata": {
        "colab": {
          "base_uri": "https://localhost:8080/"
        },
        "id": "b-quQRsFKlW8",
        "outputId": "1445fee5-d61d-4a6f-8061-88d335b8b0c0"
      },
      "execution_count": 17,
      "outputs": [
        {
          "output_type": "stream",
          "name": "stdout",
          "text": [
            "85.78925587871286\n"
          ]
        }
      ]
    },
    {
      "cell_type": "markdown",
      "source": [
        "## Выборочное среднее для столбца MIP после нормировки"
      ],
      "metadata": {
        "id": "o01D9EOpNac8"
      }
    },
    {
      "cell_type": "code",
      "source": [
        "df = df.drop('TARGET', 1)\n",
        "scaler = MinMaxScaler()\n",
        "df[['MIP']] = scaler.fit_transform(df[['MIP']])\n",
        "print(np.mean(df['MIP']))\n"
      ],
      "metadata": {
        "colab": {
          "base_uri": "https://localhost:8080/"
        },
        "id": "d95jhdh3OKZj",
        "outputId": "31025169-cae6-44dc-9cdd-51316b1547cd"
      },
      "execution_count": 18,
      "outputs": [
        {
          "output_type": "stream",
          "name": "stdout",
          "text": [
            "0.294518408151495\n"
          ]
        }
      ]
    },
    {
      "cell_type": "markdown",
      "source": [
        "## Расстояние от объекта  до ближайшей звезды"
      ],
      "metadata": {
        "id": "yo2WoKSeJFpe"
      }
    },
    {
      "cell_type": "code",
      "source": [
        "for column in df:\n",
        "    df[[column]] = scaler.fit_transform(df[[column]])\n",
        "\n",
        "star = [0.337, 0.513, 0.425, 0.036, 0.928, 0.721, 0.714, 0.261]\n",
        "distance = []\n",
        "for i in range(len(df)):\n",
        "  res = 0.0\n",
        "  for j in range(8):\n",
        "    res += (df.iloc[i,j] - star[j])**2\n",
        "  res = np.sqrt(res)\n",
        "  distance.append(res)\n",
        "print(min(distance))"
      ],
      "metadata": {
        "colab": {
          "base_uri": "https://localhost:8080/"
        },
        "id": "3xgFJnVMJQ9-",
        "outputId": "a0066c7f-cce6-4484-b355-37c64b45a450"
      },
      "execution_count": 19,
      "outputs": [
        {
          "output_type": "stream",
          "name": "stdout",
          "text": [
            "0.7828460858809095\n"
          ]
        }
      ]
    }
  ]
}