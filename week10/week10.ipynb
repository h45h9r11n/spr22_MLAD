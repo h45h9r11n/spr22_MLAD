{
  "cells": [
    {
      "cell_type": "markdown",
      "metadata": {
        "id": "Hx0HG1SbPZtu"
      },
      "source": [
        "Приведем подробные инструкции для решения поставленной задачи."
      ]
    },
    {
      "cell_type": "code",
      "source": [
        "from google.colab import drive\n",
        "drive.mount('/content/drive')"
      ],
      "metadata": {
        "colab": {
          "base_uri": "https://localhost:8080/"
        },
        "id": "gCNi1rbGPfgL",
        "outputId": "e7c7e3c6-9a65-4eda-9a9a-455cb7784e5f"
      },
      "execution_count": 122,
      "outputs": [
        {
          "output_type": "stream",
          "name": "stdout",
          "text": [
            "Drive already mounted at /content/drive; to attempt to forcibly remount, call drive.mount(\"/content/drive\", force_remount=True).\n"
          ]
        }
      ]
    },
    {
      "cell_type": "markdown",
      "metadata": {
        "id": "518VpirtPZtz"
      },
      "source": [
        "Сначала обновим и установим необходимые модули."
      ]
    },
    {
      "cell_type": "code",
      "execution_count": 123,
      "metadata": {
        "id": "onpbAsfUPZt0"
      },
      "outputs": [],
      "source": [
        "# !pip install --upgrade pip\n",
        "# !pip install imutils\n",
        "# !pip install opencv-python\n",
        "# !pip install --upgrade scikit-learn==0.23.0"
      ]
    },
    {
      "cell_type": "markdown",
      "metadata": {
        "id": "Qj_gyQb9PZt3"
      },
      "source": [
        "Подключение базовых библиотек для обработки изображений"
      ]
    },
    {
      "cell_type": "code",
      "execution_count": 124,
      "metadata": {
        "id": "LeakQLmEPZt3"
      },
      "outputs": [],
      "source": [
        "from IPython.display import Image\n",
        "from imutils import paths\n",
        "import numpy as np\n",
        "import cv2\n",
        "import os"
      ]
    },
    {
      "cell_type": "markdown",
      "metadata": {
        "id": "94RsKHZRPZt4"
      },
      "source": [
        "Для работы с изображениями, найдем их гистограммы — характеристики распределения интенсивности изображения. Для этого можно воспользоваться следующим методом."
      ]
    },
    {
      "cell_type": "code",
      "execution_count": 125,
      "metadata": {
        "id": "YqDL79z0PZt4"
      },
      "outputs": [],
      "source": [
        "def extract_histogram(image, bins=(8, 8, 8)):\n",
        "    hist = cv2.calcHist([image], [0, 1, 2], None, bins, [0, 256, 0, 256, 0, 256])\n",
        "    cv2.normalize(hist, hist)\n",
        "    return hist.flatten()"
      ]
    },
    {
      "cell_type": "markdown",
      "metadata": {
        "id": "WrtJ5YWXPZt4"
      },
      "source": [
        "Считаем изображения из корневой папки train и вычислим гистограмму каждого изображения. Кроме того, отделим метку каждого изображения. Обработка большого числа изображений в облачных сервисах занимает длительное время (1-5 минут)."
      ]
    },
    {
      "cell_type": "code",
      "execution_count": 126,
      "metadata": {
        "id": "0H9tGhDyPZt5"
      },
      "outputs": [],
      "source": [
        "imagePaths = sorted(list(paths.list_images('/content/drive/MyDrive/Colab Notebooks/week7/train_task/train')))\n",
        "trainData = []\n",
        "labels = []\n",
        "\n",
        "for (i, imagePath) in enumerate(imagePaths):\n",
        "    image = cv2.imread(imagePath, 1)\n",
        "    label = imagePath.split(os.path.sep)[-1].split(\".\")[0]\n",
        "    hist = extract_histogram(image)\n",
        "    trainData.append(hist)\n",
        "    labels.append(label)"
      ]
    },
    {
      "cell_type": "markdown",
      "metadata": {
        "id": "ZZSNZtV8PZt5"
      },
      "source": [
        "Преобразуем метки в удобный формат 0 и 1. Cat заменяем на 1, Dog на 0."
      ]
    },
    {
      "cell_type": "code",
      "execution_count": 127,
      "metadata": {
        "id": "VCTZtOYNPZt6"
      },
      "outputs": [],
      "source": [
        "Y = [1 if x == 'cat' else 0 for x in labels]"
      ]
    },
    {
      "cell_type": "code",
      "execution_count": 128,
      "metadata": {
        "colab": {
          "base_uri": "https://localhost:8080/",
          "height": 408
        },
        "id": "iLFywHeBPZt6",
        "outputId": "1825aacc-c0af-47ec-e6f2-efccae81fc0d"
      },
      "outputs": [
        {
          "output_type": "stream",
          "name": "stdout",
          "text": [
            "1\n"
          ]
        },
        {
          "output_type": "execute_result",
          "data": {
            "image/jpeg": "[encoded data removed]",
            "text/plain": [
              "<IPython.core.display.Image object>"
            ]
          },
          "metadata": {},
          "execution_count": 128
        }
      ],
      "source": [
        "print(Y[0])\n",
        "Image(filename=imagePaths[0])"
      ]
    },
    {
      "cell_type": "markdown",
      "metadata": {
        "id": "z8s5-_zUPZt6"
      },
      "source": [
        "Видно, что классом 1 у нас занумерованы коты (кошки)."
      ]
    },
    {
      "cell_type": "markdown",
      "metadata": {
        "id": "rwgHQCvdPZt7"
      },
      "source": [
        "Обучаем первый базовый классификатор - бэггинг деревьев принятия решений"
      ]
    },
    {
      "cell_type": "code",
      "execution_count": 129,
      "metadata": {
        "colab": {
          "base_uri": "https://localhost:8080/"
        },
        "id": "JjTEPGjZPZt7",
        "outputId": "fc111b8e-46f1-4d58-acd9-ca244c2df788"
      },
      "outputs": [
        {
          "output_type": "execute_result",
          "data": {
            "text/plain": [
              "BaggingClassifier(base_estimator=DecisionTreeClassifier(criterion='entropy',\n",
              "                                                        max_leaf_nodes=20,\n",
              "                                                        min_samples_leaf=10,\n",
              "                                                        random_state=42),\n",
              "                  n_estimators=18, random_state=42)"
            ]
          },
          "metadata": {},
          "execution_count": 129
        }
      ],
      "source": [
        "from sklearn.ensemble import BaggingClassifier\n",
        "from sklearn.tree import DecisionTreeClassifier\n",
        "\n",
        "tree = DecisionTreeClassifier(criterion='entropy', #критерий разделения\n",
        "                              min_samples_leaf=10, #минимальное число объектов в листе\n",
        "                              max_leaf_nodes=20, #максимальное число листьев\n",
        "                              random_state=42)\n",
        "bagging = BaggingClassifier(tree, #базовый алгоритм\n",
        "                            n_estimators=18, #количество деревьев\n",
        "                            random_state=42)\n",
        "bagging.fit(trainData, Y)"
      ]
    },
    {
      "cell_type": "markdown",
      "metadata": {
        "id": "opICvMaAPZt8"
      },
      "source": [
        "Теперь обучим модель почти-разделяющий гиперплосоксти."
      ]
    },
    {
      "cell_type": "code",
      "execution_count": 130,
      "metadata": {
        "colab": {
          "base_uri": "https://localhost:8080/"
        },
        "id": "e35KzhnQPZt8",
        "outputId": "4ea5ff9a-a97e-4897-9a34-a62292bff653"
      },
      "outputs": [
        {
          "output_type": "execute_result",
          "data": {
            "text/plain": [
              "LinearSVC(C=1.44, random_state=42)"
            ]
          },
          "metadata": {},
          "execution_count": 130
        }
      ],
      "source": [
        "from sklearn.svm import LinearSVC\n",
        "\n",
        "svm = LinearSVC(random_state = 42, C = 1.44)\n",
        "svm.fit(trainData, Y)"
      ]
    },
    {
      "cell_type": "markdown",
      "metadata": {
        "id": "N4nVGlDNPZt8"
      },
      "source": [
        "И наконец обучаем третий базовый алгоритм — случайный лес"
      ]
    },
    {
      "cell_type": "code",
      "execution_count": 131,
      "metadata": {
        "colab": {
          "base_uri": "https://localhost:8080/"
        },
        "id": "k8c7BCo0PZt9",
        "outputId": "f9a11f05-1b66-49fb-e19d-07d1dc2f031d"
      },
      "outputs": [
        {
          "output_type": "execute_result",
          "data": {
            "text/plain": [
              "RandomForestClassifier(criterion='entropy', max_leaf_nodes=20,\n",
              "                       min_samples_leaf=10, n_estimators=18, random_state=42)"
            ]
          },
          "metadata": {},
          "execution_count": 131
        }
      ],
      "source": [
        "from sklearn.ensemble import RandomForestClassifier\n",
        "\n",
        "forest = RandomForestClassifier(n_estimators=18, #количество деревьев\n",
        "                             criterion='entropy', #критерий разделения\n",
        "                              min_samples_leaf=10, #минимальное число объектов в листе\n",
        "                              max_leaf_nodes=20, #максимальное число листьев\n",
        "                              random_state=42)\n",
        "forest.fit(trainData, Y)"
      ]
    },
    {
      "cell_type": "markdown",
      "metadata": {
        "id": "UlH9amIBPZt9"
      },
      "source": [
        "Задаем в качестве решающего метаалгоритма логистическую регрессию:"
      ]
    },
    {
      "cell_type": "code",
      "execution_count": 132,
      "metadata": {
        "id": "dyxFRN6vPZt-"
      },
      "outputs": [],
      "source": [
        "from sklearn.linear_model import LogisticRegression\n",
        "\n",
        "lr = LogisticRegression(solver='lbfgs', random_state=42)"
      ]
    },
    {
      "cell_type": "markdown",
      "metadata": {
        "id": "n8rMo_zTPZt-"
      },
      "source": [
        "Обучаем метаалгоритм"
      ]
    },
    {
      "cell_type": "code",
      "execution_count": 133,
      "metadata": {
        "colab": {
          "base_uri": "https://localhost:8080/"
        },
        "id": "T8XXWnAGPZt-",
        "outputId": "f30eaa2e-58e2-4182-aa6b-8fda8550c9d8"
      },
      "outputs": [
        {
          "output_type": "execute_result",
          "data": {
            "text/plain": [
              "StackingClassifier(cv=2,\n",
              "                   estimators=[('SVM', LinearSVC(C=1.44, random_state=42)),\n",
              "                               ('Bagging DT',\n",
              "                                BaggingClassifier(base_estimator=DecisionTreeClassifier(criterion='entropy',\n",
              "                                                                                        max_leaf_nodes=20,\n",
              "                                                                                        min_samples_leaf=10,\n",
              "                                                                                        random_state=42),\n",
              "                                                  n_estimators=18,\n",
              "                                                  random_state=42)),\n",
              "                               ('DecisionForest',\n",
              "                                RandomForestClassifier(criterion='entropy',\n",
              "                                                       max_leaf_nodes=20,\n",
              "                                                       min_samples_leaf=10,\n",
              "                                                       n_estimators=18,\n",
              "                                                       random_state=42))],\n",
              "                   final_estimator=LogisticRegression(random_state=42))"
            ]
          },
          "metadata": {},
          "execution_count": 133
        }
      ],
      "source": [
        "from sklearn.ensemble import StackingClassifier\n",
        "\n",
        "base_estimators = [('SVM', svm), ('Bagging DT', bagging), ('DecisionForest', forest)]\n",
        "sclf = StackingClassifier(estimators=base_estimators, final_estimator=lr, cv=2)\n",
        "sclf.fit(trainData, Y)"
      ]
    },
    {
      "cell_type": "markdown",
      "metadata": {
        "id": "2DLbxPYyPZt_"
      },
      "source": [
        "Оценка метамодели. Доля правильной классификации (Accuracy):"
      ]
    },
    {
      "cell_type": "code",
      "execution_count": 134,
      "metadata": {
        "colab": {
          "base_uri": "https://localhost:8080/"
        },
        "id": "NYyE3y5zPZt_",
        "outputId": "0235f860-632f-448f-f61f-e3dd178ac209"
      },
      "outputs": [
        {
          "output_type": "execute_result",
          "data": {
            "text/plain": [
              "0.845"
            ]
          },
          "metadata": {},
          "execution_count": 134
        }
      ],
      "source": [
        "sclf.score(trainData, Y)"
      ]
    },
    {
      "cell_type": "markdown",
      "metadata": {
        "id": "Gbq2M6uFPZt_"
      },
      "source": [
        "Вычислим предсказания для объекта из папки test"
      ]
    },
    {
      "cell_type": "code",
      "execution_count": 135,
      "metadata": {
        "id": "Z0ttsAwhPZuA"
      },
      "outputs": [],
      "source": [
        "singleImage = cv2.imread('/content/drive/MyDrive/Colab Notebooks/week7/test_task/test/cat.1015.jpg')\n",
        "histt = extract_histogram(singleImage)\n",
        "histt2 = histt.reshape(1, -1)\n",
        "prediction = sclf.predict(histt2)"
      ]
    },
    {
      "cell_type": "code",
      "execution_count": 136,
      "metadata": {
        "colab": {
          "base_uri": "https://localhost:8080/",
          "height": 394
        },
        "id": "e5DLVm0kPZuA",
        "outputId": "e7d43675-e481-4e06-9679-b9f1e071a620"
      },
      "outputs": [
        {
          "output_type": "execute_result",
          "data": {
            "image/jpeg": "[encoded data removed]",
            "text/plain": [
              "<IPython.core.display.Image object>"
            ]
          },
          "metadata": {},
          "execution_count": 136
        }
      ],
      "source": [
        "Image(filename='/content/drive/MyDrive/Colab Notebooks/week7/test_task/test/cat.1015.jpg')"
      ]
    },
    {
      "cell_type": "code",
      "execution_count": 137,
      "metadata": {
        "colab": {
          "base_uri": "https://localhost:8080/"
        },
        "id": "YzZyxvCHPZuA",
        "outputId": "042e8e15-0326-4c49-8f8b-9f09ef1e3d2b"
      },
      "outputs": [
        {
          "output_type": "execute_result",
          "data": {
            "text/plain": [
              "array([[0.37622497, 0.62377503]])"
            ]
          },
          "metadata": {},
          "execution_count": 137
        }
      ],
      "source": [
        "prediction\n",
        "sclf.predict_proba(histt2)"
      ]
    }
  ],
  "metadata": {
    "kernelspec": {
      "display_name": "Python 3.6",
      "language": "python",
      "name": "python36"
    },
    "language_info": {
      "codemirror_mode": {
        "name": "ipython",
        "version": 3
      },
      "file_extension": ".py",
      "mimetype": "text/x-python",
      "name": "python",
      "nbconvert_exporter": "python",
      "pygments_lexer": "ipython3",
      "version": "3.6.6"
    },
    "colab": {
      "name": "Stacking.ipynb",
      "provenance": []
    }
  },
  "nbformat": 4,
  "nbformat_minor": 0
}