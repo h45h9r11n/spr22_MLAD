{
  "cells": [
    {
      "metadata": {
        "collapsed": true,
        "id": "u4qfWbOQtn4q"
      },
      "cell_type": "markdown",
      "source": [
        "# Упражнение 2.1"
      ]
    },
    {
      "metadata": {
        "id": "XAfqLneitn4v"
      },
      "cell_type": "markdown",
      "source": [
        "Подключим требуемые библиотеки."
      ]
    },
    {
      "metadata": {
        "trusted": true,
        "id": "CGmoMWNztn4w"
      },
      "cell_type": "code",
      "source": [
        "import csv\n",
        "import pandas as pd\n",
        "import numpy as np\n",
        "from sklearn.decomposition import PCA\n",
        "from sklearn import datasets\n",
        "import matplotlib\n",
        "import matplotlib.pyplot as plt\n",
        "%matplotlib inline"
      ],
      "execution_count": 70,
      "outputs": []
    },
    {
      "cell_type": "code",
      "source": [
        "from google.colab import drive\n",
        "drive.mount('/content/drive')\n",
        "path = r'/content/drive/MyDrive/Colab Notebooks/week2/7_36.csv'\n",
        "X = pd.read_csv(path, header=None)\n",
        "X.info()"
      ],
      "metadata": {
        "colab": {
          "base_uri": "https://localhost:8080/"
        },
        "id": "nsup94Es8K6Q",
        "outputId": "ef604b82-ce43-47ce-be09-68ce135b2324"
      },
      "execution_count": 71,
      "outputs": [
        {
          "output_type": "stream",
          "name": "stdout",
          "text": [
            "Drive already mounted at /content/drive; to attempt to forcibly remount, call drive.mount(\"/content/drive\", force_remount=True).\n",
            "<class 'pandas.core.frame.DataFrame'>\n",
            "RangeIndex: 60 entries, 0 to 59\n",
            "Data columns (total 10 columns):\n",
            " #   Column  Non-Null Count  Dtype  \n",
            "---  ------  --------------  -----  \n",
            " 0   0       60 non-null     float64\n",
            " 1   1       60 non-null     float64\n",
            " 2   2       60 non-null     float64\n",
            " 3   3       60 non-null     float64\n",
            " 4   4       60 non-null     float64\n",
            " 5   5       60 non-null     float64\n",
            " 6   6       60 non-null     float64\n",
            " 7   7       60 non-null     float64\n",
            " 8   8       60 non-null     float64\n",
            " 9   9       60 non-null     float64\n",
            "dtypes: float64(10)\n",
            "memory usage: 4.8 KB\n"
          ]
        }
      ]
    },
    {
      "cell_type": "markdown",
      "source": [
        "## 1,2"
      ],
      "metadata": {
        "id": "i1-UkOyAtEPU"
      }
    },
    {
      "metadata": {
        "trusted": true,
        "colab": {
          "base_uri": "https://localhost:8080/"
        },
        "id": "ARHygZKftn40",
        "outputId": "1d2dfb5f-f064-4482-fab6-8707ce492b97"
      },
      "cell_type": "code",
      "source": [
        "pca = PCA(n_components=2, svd_solver='full') \n",
        "X_transformed = pca.fit(X).transform(X) \n",
        "X_transformed[0]"
      ],
      "execution_count": 72,
      "outputs": [
        {
          "output_type": "execute_result",
          "data": {
            "text/plain": [
              "array([-14.27903089, -16.39322252])"
            ]
          },
          "metadata": {},
          "execution_count": 72
        }
      ]
    },
    {
      "metadata": {
        "id": "QWcw6sd4tn43"
      },
      "cell_type": "markdown",
      "source": [
        "## 3 Найдем долю объясненной дисперсии в зависимости от количества используемых ГК."
      ]
    },
    {
      "metadata": {
        "trusted": true,
        "id": "GeQbKnEktn43",
        "colab": {
          "base_uri": "https://localhost:8080/"
        },
        "outputId": "c9f201ce-3db9-4b52-aea1-acbca843b769"
      },
      "cell_type": "code",
      "source": [
        "explained_variance = np.round(np.cumsum(pca.explained_variance_ratio_),3)\n",
        "explained_variance"
      ],
      "execution_count": 73,
      "outputs": [
        {
          "output_type": "execute_result",
          "data": {
            "text/plain": [
              "array([0.365, 0.654])"
            ]
          },
          "metadata": {},
          "execution_count": 73
        }
      ]
    },
    {
      "cell_type": "markdown",
      "source": [
        "## 4"
      ],
      "metadata": {
        "id": "nPa-l_k4wFXJ"
      }
    },
    {
      "metadata": {
        "trusted": true,
        "id": "_QyIwhbEtn43",
        "colab": {
          "base_uri": "https://localhost:8080/"
        },
        "outputId": "93c99f97-9fb3-436d-d147-f07ac213786f"
      },
      "cell_type": "code",
      "source": [
        "pca = PCA(n_components=10, svd_solver='auto')\n",
        "X_full = pca.fit(X).transform(X)\n",
        "explained_variance = np.round(np.cumsum(pca.explained_variance_ratio_),3)\n",
        "explained_variance"
      ],
      "execution_count": 74,
      "outputs": [
        {
          "output_type": "execute_result",
          "data": {
            "text/plain": [
              "array([0.365, 0.654, 0.874, 0.945, 0.994, 0.996, 0.997, 0.999, 0.999,\n",
              "       1.   ])"
            ]
          },
          "metadata": {},
          "execution_count": 74
        }
      ]
    },
    {
      "cell_type": "markdown",
      "source": [
        "## 5"
      ],
      "metadata": {
        "id": "0ClBbIcb15ic"
      }
    },
    {
      "metadata": {
        "trusted": true,
        "id": "_Z3IkGkgtn44",
        "colab": {
          "base_uri": "https://localhost:8080/",
          "height": 282
        },
        "outputId": "9c74d742-239d-4a99-eb8b-a83d7837e31c"
      },
      "cell_type": "code",
      "source": [
        "plt.plot(X_transformed[:60, 0], X_transformed[:60, 1], 'o', markerfacecolor='red', markeredgecolor='k', markersize=8)\n"
      ],
      "execution_count": 75,
      "outputs": [
        {
          "output_type": "execute_result",
          "data": {
            "text/plain": [
              "[<matplotlib.lines.Line2D at 0x7fd274f35a10>]"
            ]
          },
          "metadata": {},
          "execution_count": 75
        },
        {
          "output_type": "display_data",
          "data": {
            "image/png": "[encoded data removed]",
            "text/plain": [
              "<Figure size 432x288 with 1 Axes>"
            ]
          },
          "metadata": {
            "needs_background": "light"
          }
        }
      ]
    },
    {
      "cell_type": "markdown",
      "source": [
        "# Упражнение 2.2"
      ],
      "metadata": {
        "id": "GsSlyYX219h1"
      }
    },
    {
      "cell_type": "code",
      "source": [
        "scores = np.genfromtxt('/content/X_reduced_401.csv', delimiter=';') \n",
        "loadings = np.genfromtxt('/content/X_loadings_401.csv', delimiter=';') \n",
        "values = np.dot(scores,loadings.T) \n",
        "plt.imshow(values, cmap='Greys_r')"
      ],
      "metadata": {
        "colab": {
          "base_uri": "https://localhost:8080/",
          "height": 285
        },
        "id": "mBx756yp1-M1",
        "outputId": "ff7bf5a8-e38d-43c0-dc43-795c200063d5"
      },
      "execution_count": 77,
      "outputs": [
        {
          "output_type": "execute_result",
          "data": {
            "text/plain": [
              "<matplotlib.image.AxesImage at 0x7fd2758c2f50>"
            ]
          },
          "metadata": {},
          "execution_count": 77
        },
        {
          "output_type": "display_data",
          "data": {
            "image/png": "[encoded data removed]",
            "text/plain": [
              "<Figure size 432x288 with 1 Axes>"
            ]
          },
          "metadata": {
            "needs_background": "light"
          }
        }
      ]
    }
  ],
  "metadata": {
    "kernelspec": {
      "name": "python36",
      "display_name": "Python 3.6",
      "language": "python"
    },
    "language_info": {
      "mimetype": "text/x-python",
      "nbconvert_exporter": "python",
      "name": "python",
      "pygments_lexer": "ipython3",
      "version": "3.6.6",
      "file_extension": ".py",
      "codemirror_mode": {
        "version": 3,
        "name": "ipython"
      }
    },
    "colab": {
      "name": "week2.ipynb",
      "provenance": [],
      "collapsed_sections": []
    }
  },
  "nbformat": 4,
  "nbformat_minor": 0
}