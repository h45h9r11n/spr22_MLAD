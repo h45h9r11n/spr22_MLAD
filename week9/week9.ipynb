{
  "cells": [
    {
      "cell_type": "markdown",
      "metadata": {
        "collapsed": true,
        "id": "dEYvG9pfvDTm"
      },
      "source": [
        "# Введение в Машинное обучение\n",
        "\n",
        "## Высшая Школа Цифровой Культуры\n",
        "\n",
        "## Материалы к лекции 5. K-Means."
      ]
    },
    {
      "cell_type": "markdown",
      "metadata": {
        "id": "rGuMMfZvvDTr"
      },
      "source": [
        "Обработка данных"
      ]
    },
    {
      "cell_type": "code",
      "source": [
        "from google.colab import drive\n",
        "drive.mount('/content/drive')"
      ],
      "metadata": {
        "colab": {
          "base_uri": "https://localhost:8080/"
        },
        "id": "gybmrWv2vFwU",
        "outputId": "fafa1c11-4414-430b-ce73-ed6ad4381390"
      },
      "execution_count": 34,
      "outputs": [
        {
          "output_type": "stream",
          "name": "stdout",
          "text": [
            "Drive already mounted at /content/drive; to attempt to forcibly remount, call drive.mount(\"/content/drive\", force_remount=True).\n"
          ]
        }
      ]
    },
    {
      "cell_type": "code",
      "execution_count": 35,
      "metadata": {
        "id": "bCB_D13hvDTs"
      },
      "outputs": [],
      "source": [
        "#чтение данных, так как названия конфет уникальны, используем их в качестве индекса\n",
        "import numpy as np\n",
        "import pandas as pd\n",
        "DATA = pd.read_csv(\"/content/drive/MyDrive/Colab Notebooks/week9/kmeans.csv\", delimiter=',', index_col='Object')"
      ]
    },
    {
      "cell_type": "code",
      "execution_count": 36,
      "metadata": {
        "id": "Og4B4PVqvDTu"
      },
      "outputs": [],
      "source": [
        "#удаление столбца Cluster из набора данных\n",
        "coords = DATA.drop('Cluster', axis=1)"
      ]
    },
    {
      "cell_type": "code",
      "execution_count": 37,
      "metadata": {
        "id": "YkJ3TazKvDTu"
      },
      "outputs": [],
      "source": [
        "#подключение KMeans из библиотеки sklearn\n",
        "from sklearn.cluster import KMeans"
      ]
    },
    {
      "cell_type": "code",
      "execution_count": 38,
      "metadata": {
        "id": "nrjJ9k_DvDTv"
      },
      "outputs": [],
      "source": [
        "#координаты центроидов\n",
        "centroid = np.array([[15.0, 8.5], [9.0, 12.83], [14.0, 5.0]])"
      ]
    },
    {
      "cell_type": "code",
      "execution_count": 39,
      "metadata": {
        "id": "ajsZnx78vDTv"
      },
      "outputs": [],
      "source": [
        "#инициализация модели\n",
        "kmeans = KMeans(n_clusters=3, init=centroid, max_iter=100, n_init=1)"
      ]
    },
    {
      "cell_type": "code",
      "execution_count": 40,
      "metadata": {
        "id": "qHMGALJ7vDTv"
      },
      "outputs": [],
      "source": [
        "#обучение модели на данных из coords\n",
        "model = kmeans.fit(coords)"
      ]
    },
    {
      "cell_type": "code",
      "execution_count": 41,
      "metadata": {
        "id": "LZA3lXqavDTw"
      },
      "outputs": [],
      "source": [
        "#вывод назначенных кластеров\n",
        "clusters = model.labels_.tolist()"
      ]
    },
    {
      "cell_type": "code",
      "execution_count": 42,
      "metadata": {
        "id": "QgRA-WbivDTx"
      },
      "outputs": [],
      "source": [
        "#обучение модели и расчет расстояний до центроидов\n",
        "alldistances = kmeans.fit_transform(coords)"
      ]
    },
    {
      "cell_type": "code",
      "execution_count": 43,
      "metadata": {
        "colab": {
          "base_uri": "https://localhost:8080/"
        },
        "id": "rbH3ztpXvDTx",
        "outputId": "07e054ab-bf60-4d4f-dd48-35e8e0bb27dc"
      },
      "outputs": [
        {
          "output_type": "execute_result",
          "data": {
            "text/plain": [
              "array([[ 1.67497927, 10.13039979, 12.30447073],\n",
              "       [ 5.87130498,  5.25594901, 14.12090649],\n",
              "       [ 1.95078332,  7.94512429, 11.76435294],\n",
              "       [ 7.75492675, 13.86091628, 10.13903348],\n",
              "       [ 6.69369521, 12.86953768, 19.80403999],\n",
              "       [11.69639071, 15.46366709,  7.9246451 ],\n",
              "       [18.87164245, 13.78858223,  6.35609943],\n",
              "       [ 6.03922364,  7.97652807, 16.64331698],\n",
              "       [14.66761361, 10.00624805,  3.57770876],\n",
              "       [11.03655542, 10.13039979,  2.40831892],\n",
              "       [13.25916874,  3.95284708, 14.23376268],\n",
              "       [ 2.03442594, 11.09617051, 13.03840481],\n",
              "       [12.85063768,  3.69120577, 10.47854952],\n",
              "       [ 8.00867585,  3.2596012 ,  8.63712915],\n",
              "       [13.84938827, 11.77391184,  0.4472136 ]])"
            ]
          },
          "metadata": {},
          "execution_count": 43
        }
      ],
      "source": [
        "#вывод расстояний от данных до всех центроидов\n",
        "alldistances"
      ]
    },
    {
      "cell_type": "code",
      "source": [
        "import math\n",
        "cluster = 0 \n",
        "s = 0\n",
        "count = 0\n",
        "for i in range(0,len(clusters)):\n",
        "  if (clusters[i] == cluster): \n",
        "    count+=1\n",
        "    s += alldistances[i][cluster]\n",
        "print(s/count) "
      ],
      "metadata": {
        "colab": {
          "base_uri": "https://localhost:8080/"
        },
        "id": "DRRTX_1pweqU",
        "outputId": "099b940c-d21b-4f42-865b-418462c49594"
      },
      "execution_count": 44,
      "outputs": [
        {
          "output_type": "stream",
          "name": "stdout",
          "text": [
            "4.358005687892641\n"
          ]
        }
      ]
    }
  ],
  "metadata": {
    "kernelspec": {
      "display_name": "Python 3.6",
      "language": "python",
      "name": "python36"
    },
    "language_info": {
      "codemirror_mode": {
        "name": "ipython",
        "version": 3
      },
      "file_extension": ".py",
      "mimetype": "text/x-python",
      "name": "python",
      "nbconvert_exporter": "python",
      "pygments_lexer": "ipython3",
      "version": "3.6.6"
    },
    "colab": {
      "name": "week9.ipynb",
      "provenance": []
    }
  },
  "nbformat": 4,
  "nbformat_minor": 0
}