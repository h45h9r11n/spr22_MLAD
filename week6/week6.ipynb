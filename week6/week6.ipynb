{
  "cells": [
    {
      "cell_type": "markdown",
      "metadata": {
        "id": "2REqwJZKaQ8o"
      },
      "source": [
        "# Введение в Машинное обучение\n",
        "\n",
        "## Высшая Школа Цифровой Культуры\n",
        "\n",
        "## Материалы к лекции 3. Логистическая регрессия"
      ]
    },
    {
      "cell_type": "markdown",
      "metadata": {
        "id": "BCnqp344aQ8u"
      },
      "source": [
        "Обработка данных"
      ]
    },
    {
      "cell_type": "code",
      "source": [
        "from google.colab import drive\n",
        "drive.mount('/content/drive')"
      ],
      "metadata": {
        "colab": {
          "base_uri": "https://localhost:8080/"
        },
        "id": "bHI3dGsiag9O",
        "outputId": "584a71f2-a4c4-45f4-e258-8d96f718093e"
      },
      "execution_count": 28,
      "outputs": [
        {
          "output_type": "stream",
          "name": "stdout",
          "text": [
            "Drive already mounted at /content/drive; to attempt to forcibly remount, call drive.mount(\"/content/drive\", force_remount=True).\n"
          ]
        }
      ]
    },
    {
      "cell_type": "code",
      "execution_count": 29,
      "metadata": {
        "id": "sHm6Lo98aQ8u"
      },
      "outputs": [],
      "source": [
        "#чтение данных, так как названия конфет уникальны, используем их в качестве индекса\n",
        "import pandas as pd\n",
        "DATA = pd.read_csv(\"/content/drive/MyDrive/Colab Notebooks/week6/candy-data.csv\", delimiter=',', index_col='competitorname')"
      ]
    },
    {
      "cell_type": "code",
      "execution_count": 30,
      "metadata": {
        "id": "1IxNcdTiaQ8w"
      },
      "outputs": [],
      "source": [
        "#обучение модели будем проводить на данных, за исключением некоторых конфет\n",
        "train_data = DATA.drop(['Chewey Lemonhead Fruit Mix', 'Runts', 'Sixlets'])"
      ]
    },
    {
      "cell_type": "code",
      "execution_count": 31,
      "metadata": {
        "id": "SjKdsizXaQ8w"
      },
      "outputs": [],
      "source": [
        "#отбор данных для предикторов, удаление дввух последних столбцов, индекс не включается в данные автоматически.\n",
        "X = pd.DataFrame(train_data.drop(['winpercent', 'Y'], axis=1))"
      ]
    },
    {
      "cell_type": "code",
      "execution_count": 32,
      "metadata": {
        "id": "4Zfw7TsqaQ8x"
      },
      "outputs": [],
      "source": [
        "#отбор столбца для отклика\n",
        "y = pd.DataFrame(train_data['Y'])"
      ]
    },
    {
      "cell_type": "markdown",
      "metadata": {
        "id": "LooUyRJ5aQ8x"
      },
      "source": [
        "Обучение модели логистической регрессии"
      ]
    },
    {
      "cell_type": "code",
      "execution_count": 33,
      "metadata": {
        "id": "aWPML2EwaQ8y"
      },
      "outputs": [],
      "source": [
        "#подключение модели логистической регрессии из библиотеки sklearn\n",
        "from sklearn.linear_model import LogisticRegression"
      ]
    },
    {
      "cell_type": "code",
      "execution_count": 34,
      "metadata": {
        "id": "0SrGy5PNaQ8y"
      },
      "outputs": [],
      "source": [
        "#обучение модели\n",
        "reg = LogisticRegression(random_state=2019, solver='lbfgs').fit(X, y.values.ravel())"
      ]
    },
    {
      "cell_type": "markdown",
      "metadata": {
        "id": "UCXSTIvRaQ8z"
      },
      "source": [
        "Предсказание результатов с помощью обученной модели"
      ]
    },
    {
      "cell_type": "code",
      "execution_count": 35,
      "metadata": {
        "colab": {
          "base_uri": "https://localhost:8080/"
        },
        "id": "97dPtcEUaQ8z",
        "outputId": "67eb17c4-1af1-40f0-8a9a-ef6dc5015e7b"
      },
      "outputs": [
        {
          "output_type": "stream",
          "name": "stderr",
          "text": [
            "/usr/local/lib/python3.7/dist-packages/sklearn/base.py:446: UserWarning: X does not have valid feature names, but LogisticRegression was fitted with feature names\n",
            "  \"X does not have valid feature names, but\"\n"
          ]
        },
        {
          "output_type": "execute_result",
          "data": {
            "text/plain": [
              "array([[0.13650776, 0.86349224]])"
            ]
          },
          "metadata": {},
          "execution_count": 35
        }
      ],
      "source": [
        "#предсказание для сладости, введенной вручную, вероятности указаны для классов 0 и 1 соответственно \n",
        "reg.predict_proba([[1, 1, 1, 0, 0, 1, 1, 1, 0, 0.64, 0.76]])"
      ]
    },
    {
      "cell_type": "code",
      "execution_count": 36,
      "metadata": {
        "colab": {
          "base_uri": "https://localhost:8080/"
        },
        "id": "7uS3EDvdaQ81",
        "outputId": "2f8f9a49-c1d6-4e38-e25f-41bb908c39ae"
      },
      "outputs": [
        {
          "output_type": "execute_result",
          "data": {
            "text/plain": [
              "array([0])"
            ]
          },
          "metadata": {},
          "execution_count": 36
        }
      ],
      "source": [
        "#предсказание для сладости из таблицы\n",
        "#выбор строки из таблицы\n",
        "AirHeads = DATA.loc['Air Heads',:].to_frame().T\n",
        "#отбор данных для предикторов и предсказание\n",
        "reg.predict(AirHeads.drop(['winpercent', 'Y'], axis=1))"
      ]
    },
    {
      "cell_type": "markdown",
      "metadata": {
        "id": "rCaQi7tTaQ82"
      },
      "source": [
        "Оценка модели с помощью тестовых данных"
      ]
    },
    {
      "cell_type": "code",
      "execution_count": 37,
      "metadata": {
        "colab": {
          "base_uri": "https://localhost:8080/",
          "height": 686
        },
        "id": "FLUvDjJiaQ82",
        "outputId": "18547209-140b-4550-ea40-0554e816e742"
      },
      "outputs": [
        {
          "output_type": "execute_result",
          "data": {
            "text/html": [
              "\n",
              "  <div id=\"df-f2ee81ca-4511-4ce8-a78b-82c07e1d58ab\">\n",
              "    <div class=\"colab-df-container\">\n",
              "      <div>\n",
              "<style scoped>\n",
              "    .dataframe tbody tr th:only-of-type {\n",
              "        vertical-align: middle;\n",
              "    }\n",
              "\n",
              "    .dataframe tbody tr th {\n",
              "        vertical-align: top;\n",
              "    }\n",
              "\n",
              "    .dataframe thead th {\n",
              "        text-align: right;\n",
              "    }\n",
              "</style>\n",
              "<table border=\"1\" class=\"dataframe\">\n",
              "  <thead>\n",
              "    <tr style=\"text-align: right;\">\n",
              "      <th></th>\n",
              "      <th>chocolate</th>\n",
              "      <th>fruity</th>\n",
              "      <th>caramel</th>\n",
              "      <th>peanutyalmondy</th>\n",
              "      <th>nougat</th>\n",
              "      <th>crispedricewafer</th>\n",
              "      <th>hard</th>\n",
              "      <th>bar</th>\n",
              "      <th>pluribus</th>\n",
              "      <th>sugarpercent</th>\n",
              "      <th>pricepercent</th>\n",
              "    </tr>\n",
              "    <tr>\n",
              "      <th>competitorname</th>\n",
              "      <th></th>\n",
              "      <th></th>\n",
              "      <th></th>\n",
              "      <th></th>\n",
              "      <th></th>\n",
              "      <th></th>\n",
              "      <th></th>\n",
              "      <th></th>\n",
              "      <th></th>\n",
              "      <th></th>\n",
              "      <th></th>\n",
              "    </tr>\n",
              "  </thead>\n",
              "  <tbody>\n",
              "    <tr>\n",
              "      <th>Sugar Babies</th>\n",
              "      <td>0</td>\n",
              "      <td>1</td>\n",
              "      <td>1</td>\n",
              "      <td>0</td>\n",
              "      <td>0</td>\n",
              "      <td>0</td>\n",
              "      <td>1</td>\n",
              "      <td>0</td>\n",
              "      <td>1</td>\n",
              "      <td>0.647364</td>\n",
              "      <td>0.76700</td>\n",
              "    </tr>\n",
              "    <tr>\n",
              "      <th>Sugar Daddy</th>\n",
              "      <td>1</td>\n",
              "      <td>0</td>\n",
              "      <td>0</td>\n",
              "      <td>0</td>\n",
              "      <td>1</td>\n",
              "      <td>0</td>\n",
              "      <td>1</td>\n",
              "      <td>0</td>\n",
              "      <td>0</td>\n",
              "      <td>0.418000</td>\n",
              "      <td>0.32500</td>\n",
              "    </tr>\n",
              "    <tr>\n",
              "      <th>Super Bubble</th>\n",
              "      <td>0</td>\n",
              "      <td>1</td>\n",
              "      <td>0</td>\n",
              "      <td>0</td>\n",
              "      <td>0</td>\n",
              "      <td>0</td>\n",
              "      <td>0</td>\n",
              "      <td>0</td>\n",
              "      <td>0</td>\n",
              "      <td>0.162000</td>\n",
              "      <td>0.11600</td>\n",
              "    </tr>\n",
              "    <tr>\n",
              "      <th>Swedish Fish</th>\n",
              "      <td>0</td>\n",
              "      <td>1</td>\n",
              "      <td>0</td>\n",
              "      <td>0</td>\n",
              "      <td>0</td>\n",
              "      <td>0</td>\n",
              "      <td>0</td>\n",
              "      <td>0</td>\n",
              "      <td>1</td>\n",
              "      <td>0.604000</td>\n",
              "      <td>0.75500</td>\n",
              "    </tr>\n",
              "    <tr>\n",
              "      <th>Tootsie Pop</th>\n",
              "      <td>1</td>\n",
              "      <td>0</td>\n",
              "      <td>0</td>\n",
              "      <td>0</td>\n",
              "      <td>0</td>\n",
              "      <td>0</td>\n",
              "      <td>0</td>\n",
              "      <td>0</td>\n",
              "      <td>0</td>\n",
              "      <td>0.876560</td>\n",
              "      <td>0.56540</td>\n",
              "    </tr>\n",
              "    <tr>\n",
              "      <th>Tootsie Roll Juniors</th>\n",
              "      <td>1</td>\n",
              "      <td>0</td>\n",
              "      <td>0</td>\n",
              "      <td>0</td>\n",
              "      <td>0</td>\n",
              "      <td>0</td>\n",
              "      <td>0</td>\n",
              "      <td>0</td>\n",
              "      <td>0</td>\n",
              "      <td>0.313000</td>\n",
              "      <td>0.51100</td>\n",
              "    </tr>\n",
              "    <tr>\n",
              "      <th>Tootsie Roll Midgies</th>\n",
              "      <td>1</td>\n",
              "      <td>0</td>\n",
              "      <td>0</td>\n",
              "      <td>0</td>\n",
              "      <td>0</td>\n",
              "      <td>0</td>\n",
              "      <td>0</td>\n",
              "      <td>0</td>\n",
              "      <td>1</td>\n",
              "      <td>0.174000</td>\n",
              "      <td>0.01100</td>\n",
              "    </tr>\n",
              "    <tr>\n",
              "      <th>Tootsie Roll Snack Bars</th>\n",
              "      <td>1</td>\n",
              "      <td>0</td>\n",
              "      <td>0</td>\n",
              "      <td>0</td>\n",
              "      <td>0</td>\n",
              "      <td>0</td>\n",
              "      <td>0</td>\n",
              "      <td>1</td>\n",
              "      <td>0</td>\n",
              "      <td>0.465000</td>\n",
              "      <td>0.32500</td>\n",
              "    </tr>\n",
              "    <tr>\n",
              "      <th>Trolli Sour Bites</th>\n",
              "      <td>0</td>\n",
              "      <td>1</td>\n",
              "      <td>0</td>\n",
              "      <td>0</td>\n",
              "      <td>0</td>\n",
              "      <td>0</td>\n",
              "      <td>0</td>\n",
              "      <td>0</td>\n",
              "      <td>1</td>\n",
              "      <td>0.313000</td>\n",
              "      <td>0.25500</td>\n",
              "    </tr>\n",
              "    <tr>\n",
              "      <th>Twix</th>\n",
              "      <td>0</td>\n",
              "      <td>1</td>\n",
              "      <td>0</td>\n",
              "      <td>0</td>\n",
              "      <td>0</td>\n",
              "      <td>0</td>\n",
              "      <td>0</td>\n",
              "      <td>0</td>\n",
              "      <td>0</td>\n",
              "      <td>0.735430</td>\n",
              "      <td>0.86634</td>\n",
              "    </tr>\n",
              "    <tr>\n",
              "      <th>Twizzlers</th>\n",
              "      <td>0</td>\n",
              "      <td>1</td>\n",
              "      <td>0</td>\n",
              "      <td>0</td>\n",
              "      <td>0</td>\n",
              "      <td>0</td>\n",
              "      <td>0</td>\n",
              "      <td>0</td>\n",
              "      <td>0</td>\n",
              "      <td>0.220000</td>\n",
              "      <td>0.11600</td>\n",
              "    </tr>\n",
              "    <tr>\n",
              "      <th>Warheads</th>\n",
              "      <td>0</td>\n",
              "      <td>1</td>\n",
              "      <td>0</td>\n",
              "      <td>0</td>\n",
              "      <td>0</td>\n",
              "      <td>0</td>\n",
              "      <td>1</td>\n",
              "      <td>0</td>\n",
              "      <td>0</td>\n",
              "      <td>0.093000</td>\n",
              "      <td>0.11600</td>\n",
              "    </tr>\n",
              "    <tr>\n",
              "      <th>Welchs Fruit Snacks</th>\n",
              "      <td>0</td>\n",
              "      <td>1</td>\n",
              "      <td>0</td>\n",
              "      <td>0</td>\n",
              "      <td>0</td>\n",
              "      <td>0</td>\n",
              "      <td>0</td>\n",
              "      <td>0</td>\n",
              "      <td>1</td>\n",
              "      <td>0.313000</td>\n",
              "      <td>0.31300</td>\n",
              "    </tr>\n",
              "    <tr>\n",
              "      <th>Werthers Original Caramel</th>\n",
              "      <td>1</td>\n",
              "      <td>0</td>\n",
              "      <td>1</td>\n",
              "      <td>0</td>\n",
              "      <td>0</td>\n",
              "      <td>0</td>\n",
              "      <td>1</td>\n",
              "      <td>0</td>\n",
              "      <td>0</td>\n",
              "      <td>0.186000</td>\n",
              "      <td>0.26700</td>\n",
              "    </tr>\n",
              "    <tr>\n",
              "      <th>Whoppers</th>\n",
              "      <td>1</td>\n",
              "      <td>0</td>\n",
              "      <td>0</td>\n",
              "      <td>0</td>\n",
              "      <td>0</td>\n",
              "      <td>0</td>\n",
              "      <td>0</td>\n",
              "      <td>0</td>\n",
              "      <td>1</td>\n",
              "      <td>0.872000</td>\n",
              "      <td>0.84800</td>\n",
              "    </tr>\n",
              "  </tbody>\n",
              "</table>\n",
              "</div>\n",
              "      <button class=\"colab-df-convert\" onclick=\"convertToInteractive('df-f2ee81ca-4511-4ce8-a78b-82c07e1d58ab')\"\n",
              "              title=\"Convert this dataframe to an interactive table.\"\n",
              "              style=\"display:none;\">\n",
              "        \n",
              "  <svg xmlns=\"http://www.w3.org/2000/svg\" height=\"24px\"viewBox=\"0 0 24 24\"\n",
              "       width=\"24px\">\n",
              "    <path d=\"M0 0h24v24H0V0z\" fill=\"none\"/>\n",
              "    <path d=\"M18.56 5.44l.94 2.06.94-2.06 2.06-.94-2.06-.94-.94-2.06-.94 2.06-2.06.94zm-11 1L8.5 8.5l.94-2.06 2.06-.94-2.06-.94L8.5 2.5l-.94 2.06-2.06.94zm10 10l.94 2.06.94-2.06 2.06-.94-2.06-.94-.94-2.06-.94 2.06-2.06.94z\"/><path d=\"M17.41 7.96l-1.37-1.37c-.4-.4-.92-.59-1.43-.59-.52 0-1.04.2-1.43.59L10.3 9.45l-7.72 7.72c-.78.78-.78 2.05 0 2.83L4 21.41c.39.39.9.59 1.41.59.51 0 1.02-.2 1.41-.59l7.78-7.78 2.81-2.81c.8-.78.8-2.07 0-2.86zM5.41 20L4 18.59l7.72-7.72 1.47 1.35L5.41 20z\"/>\n",
              "  </svg>\n",
              "      </button>\n",
              "      \n",
              "  <style>\n",
              "    .colab-df-container {\n",
              "      display:flex;\n",
              "      flex-wrap:wrap;\n",
              "      gap: 12px;\n",
              "    }\n",
              "\n",
              "    .colab-df-convert {\n",
              "      background-color: #E8F0FE;\n",
              "      border: none;\n",
              "      border-radius: 50%;\n",
              "      cursor: pointer;\n",
              "      display: none;\n",
              "      fill: #1967D2;\n",
              "      height: 32px;\n",
              "      padding: 0 0 0 0;\n",
              "      width: 32px;\n",
              "    }\n",
              "\n",
              "    .colab-df-convert:hover {\n",
              "      background-color: #E2EBFA;\n",
              "      box-shadow: 0px 1px 2px rgba(60, 64, 67, 0.3), 0px 1px 3px 1px rgba(60, 64, 67, 0.15);\n",
              "      fill: #174EA6;\n",
              "    }\n",
              "\n",
              "    [theme=dark] .colab-df-convert {\n",
              "      background-color: #3B4455;\n",
              "      fill: #D2E3FC;\n",
              "    }\n",
              "\n",
              "    [theme=dark] .colab-df-convert:hover {\n",
              "      background-color: #434B5C;\n",
              "      box-shadow: 0px 1px 3px 1px rgba(0, 0, 0, 0.15);\n",
              "      filter: drop-shadow(0px 1px 2px rgba(0, 0, 0, 0.3));\n",
              "      fill: #FFFFFF;\n",
              "    }\n",
              "  </style>\n",
              "\n",
              "      <script>\n",
              "        const buttonEl =\n",
              "          document.querySelector('#df-f2ee81ca-4511-4ce8-a78b-82c07e1d58ab button.colab-df-convert');\n",
              "        buttonEl.style.display =\n",
              "          google.colab.kernel.accessAllowed ? 'block' : 'none';\n",
              "\n",
              "        async function convertToInteractive(key) {\n",
              "          const element = document.querySelector('#df-f2ee81ca-4511-4ce8-a78b-82c07e1d58ab');\n",
              "          const dataTable =\n",
              "            await google.colab.kernel.invokeFunction('convertToInteractive',\n",
              "                                                     [key], {});\n",
              "          if (!dataTable) return;\n",
              "\n",
              "          const docLinkHtml = 'Like what you see? Visit the ' +\n",
              "            '<a target=\"_blank\" href=https://colab.research.google.com/notebooks/data_table.ipynb>data table notebook</a>'\n",
              "            + ' to learn more about interactive tables.';\n",
              "          element.innerHTML = '';\n",
              "          dataTable['output_type'] = 'display_data';\n",
              "          await google.colab.output.renderOutput(dataTable, element);\n",
              "          const docLink = document.createElement('div');\n",
              "          docLink.innerHTML = docLinkHtml;\n",
              "          element.appendChild(docLink);\n",
              "        }\n",
              "      </script>\n",
              "    </div>\n",
              "  </div>\n",
              "  "
            ],
            "text/plain": [
              "                           chocolate  fruity  ...  sugarpercent  pricepercent\n",
              "competitorname                                ...                            \n",
              "Sugar Babies                       0       1  ...      0.647364       0.76700\n",
              "Sugar Daddy                        1       0  ...      0.418000       0.32500\n",
              "Super Bubble                       0       1  ...      0.162000       0.11600\n",
              "Swedish Fish                       0       1  ...      0.604000       0.75500\n",
              "Tootsie Pop                        1       0  ...      0.876560       0.56540\n",
              "Tootsie Roll Juniors               1       0  ...      0.313000       0.51100\n",
              "Tootsie Roll Midgies               1       0  ...      0.174000       0.01100\n",
              "Tootsie Roll Snack Bars            1       0  ...      0.465000       0.32500\n",
              "Trolli Sour Bites                  0       1  ...      0.313000       0.25500\n",
              "Twix                               0       1  ...      0.735430       0.86634\n",
              "Twizzlers                          0       1  ...      0.220000       0.11600\n",
              "Warheads                           0       1  ...      0.093000       0.11600\n",
              "Welchs Fruit Snacks                0       1  ...      0.313000       0.31300\n",
              "Werthers Original Caramel          1       0  ...      0.186000       0.26700\n",
              "Whoppers                           1       0  ...      0.872000       0.84800\n",
              "\n",
              "[15 rows x 11 columns]"
            ]
          },
          "metadata": {},
          "execution_count": 37
        }
      ],
      "source": [
        "#чтение тестовых данных и отбор предикторов\n",
        "test_data = pd.read_csv(\"/content/drive/MyDrive/Colab Notebooks/week6/candy-test.csv\", delimiter=',', index_col='competitorname')\n",
        "X_test = pd.DataFrame(test_data.drop(['Y'], axis=1))\n",
        "X_test"
      ]
    },
    {
      "cell_type": "code",
      "execution_count": 38,
      "metadata": {
        "id": "9Iqar5OLaQ82"
      },
      "outputs": [],
      "source": [
        "#предсказание с помощью обученной модели, порог отсечения по умолчанию составляет 0.5\n",
        "Y_pred = reg.predict(X_test)"
      ]
    },
    {
      "cell_type": "code",
      "execution_count": 39,
      "metadata": {
        "colab": {
          "base_uri": "https://localhost:8080/"
        },
        "id": "lu0FWim2aQ83",
        "outputId": "80284399-45db-4529-9907-474abe24957c"
      },
      "outputs": [
        {
          "output_type": "execute_result",
          "data": {
            "text/plain": [
              "array([0, 0, 0, 0, 1, 1, 1, 1, 0, 0, 0, 0, 0, 1, 1])"
            ]
          },
          "metadata": {},
          "execution_count": 39
        }
      ],
      "source": [
        "Y_pred"
      ]
    },
    {
      "cell_type": "code",
      "execution_count": 40,
      "metadata": {
        "id": "W-GYve5paQ83"
      },
      "outputs": [],
      "source": [
        "#вероятности отнесения к 0 и 1 классу объектов тестовых данных соответствнно\n",
        "Y_pred_probs = reg.predict_proba(X_test)"
      ]
    },
    {
      "cell_type": "code",
      "execution_count": 41,
      "metadata": {
        "colab": {
          "base_uri": "https://localhost:8080/"
        },
        "id": "dsc1fURIaQ83",
        "outputId": "bb9f2e56-a8e3-46ed-f335-2bbb6a957195"
      },
      "outputs": [
        {
          "output_type": "execute_result",
          "data": {
            "text/plain": [
              "array([[0.7139617 , 0.2860383 ],\n",
              "       [0.59994557, 0.40005443],\n",
              "       [0.65127668, 0.34872332],\n",
              "       [0.59820116, 0.40179884],\n",
              "       [0.21972227, 0.78027773],\n",
              "       [0.28300469, 0.71699531],\n",
              "       [0.25917458, 0.74082542],\n",
              "       [0.19733419, 0.80266581],\n",
              "       [0.61463447, 0.38536553],\n",
              "       [0.60741035, 0.39258965],\n",
              "       [0.64305556, 0.35694444],\n",
              "       [0.8504666 , 0.1495334 ],\n",
              "       [0.61770122, 0.38229878],\n",
              "       [0.40990595, 0.59009405],\n",
              "       [0.21476576, 0.78523424]])"
            ]
          },
          "metadata": {},
          "execution_count": 41
        }
      ],
      "source": [
        "Y_pred_probs"
      ]
    },
    {
      "cell_type": "code",
      "execution_count": 42,
      "metadata": {
        "id": "XnNCgymGaQ84"
      },
      "outputs": [],
      "source": [
        "#отбор вероятностей отнесения объектов к классу 1\n",
        "Y_pred_probs_class_1 = Y_pred_probs[:, 1]"
      ]
    },
    {
      "cell_type": "code",
      "execution_count": 43,
      "metadata": {
        "colab": {
          "base_uri": "https://localhost:8080/"
        },
        "id": "gw31BiKeaQ84",
        "outputId": "e81f18df-2ae8-4450-b65e-da74a4dcc82d"
      },
      "outputs": [
        {
          "output_type": "execute_result",
          "data": {
            "text/plain": [
              "array([0.2860383 , 0.40005443, 0.34872332, 0.40179884, 0.78027773,\n",
              "       0.71699531, 0.74082542, 0.80266581, 0.38536553, 0.39258965,\n",
              "       0.35694444, 0.1495334 , 0.38229878, 0.59009405, 0.78523424])"
            ]
          },
          "metadata": {},
          "execution_count": 43
        }
      ],
      "source": [
        "Y_pred_probs_class_1"
      ]
    },
    {
      "cell_type": "code",
      "execution_count": 44,
      "metadata": {
        "id": "TRfRdlF6aQ85"
      },
      "outputs": [],
      "source": [
        "#отбор отклика Y из тестовых данных и преобразование в массив\n",
        "Y_true = (test_data['Y'].to_frame().T).values.ravel()"
      ]
    },
    {
      "cell_type": "code",
      "execution_count": 45,
      "metadata": {
        "colab": {
          "base_uri": "https://localhost:8080/"
        },
        "id": "1g9IMOvtaQ85",
        "outputId": "e63482b6-8aa1-4b41-af30-3b47afb1e86e"
      },
      "outputs": [
        {
          "output_type": "execute_result",
          "data": {
            "text/plain": [
              "array([0, 0, 0, 1, 1, 0, 0, 1, 0, 1, 0, 0, 0, 0, 1])"
            ]
          },
          "metadata": {},
          "execution_count": 45
        }
      ],
      "source": [
        "Y_true"
      ]
    },
    {
      "cell_type": "code",
      "execution_count": 46,
      "metadata": {
        "id": "Z_v6BNntaQ85"
      },
      "outputs": [],
      "source": [
        "#подключение библиотеки для вычисления метрик\n",
        "from sklearn import metrics"
      ]
    },
    {
      "cell_type": "code",
      "execution_count": 47,
      "metadata": {
        "id": "mWBniuT7aQ86"
      },
      "outputs": [],
      "source": [
        "fpr, tpr, _ = metrics.roc_curve(Y_true, Y_pred)"
      ]
    },
    {
      "cell_type": "code",
      "execution_count": 48,
      "metadata": {
        "colab": {
          "base_uri": "https://localhost:8080/"
        },
        "id": "mIEK6pFuaQ86",
        "outputId": "df9ce77c-570f-4751-8e98-751398b6fef2"
      },
      "outputs": [
        {
          "output_type": "execute_result",
          "data": {
            "text/plain": [
              "0.86"
            ]
          },
          "metadata": {},
          "execution_count": 48
        }
      ],
      "source": [
        "#вычисляем AUC\n",
        "metrics.roc_auc_score(Y_true, Y_pred_probs_class_1)"
      ]
    },
    {
      "cell_type": "code",
      "execution_count": 49,
      "metadata": {
        "colab": {
          "base_uri": "https://localhost:8080/"
        },
        "id": "A_CnEg7OaQ86",
        "outputId": "6ac9be70-b827-470a-eb18-b2bb143d681f"
      },
      "outputs": [
        {
          "output_type": "execute_result",
          "data": {
            "text/plain": [
              "0.6"
            ]
          },
          "metadata": {},
          "execution_count": 49
        }
      ],
      "source": [
        "#вычисление Recall\n",
        "metrics.recall_score(Y_true, Y_pred)"
      ]
    },
    {
      "cell_type": "code",
      "execution_count": 50,
      "metadata": {
        "colab": {
          "base_uri": "https://localhost:8080/"
        },
        "id": "zVO6O7YLaQ87",
        "outputId": "d71c8c89-98af-436e-c3a1-656e5a471ea4"
      },
      "outputs": [
        {
          "output_type": "execute_result",
          "data": {
            "text/plain": [
              "0.5"
            ]
          },
          "metadata": {},
          "execution_count": 50
        }
      ],
      "source": [
        "#вычисление Precision\n",
        "metrics.precision_score(Y_true, Y_pred)"
      ]
    },
    {
      "cell_type": "code",
      "execution_count": 51,
      "metadata": {
        "id": "GSl9_0YqaQ87"
      },
      "outputs": [],
      "source": [
        "#подключим библиотеки для визуализации\n",
        "import matplotlib.pyplot as plt\n",
        "%matplotlib inline"
      ]
    },
    {
      "cell_type": "code",
      "execution_count": 52,
      "metadata": {
        "colab": {
          "base_uri": "https://localhost:8080/",
          "height": 349
        },
        "id": "d0IwZB2paQ87",
        "outputId": "85413ac1-9ed2-4df7-ebcd-a42620721c3e"
      },
      "outputs": [
        {
          "output_type": "stream",
          "name": "stderr",
          "text": [
            "/usr/local/lib/python3.7/dist-packages/sklearn/utils/deprecation.py:87: FutureWarning: Function plot_roc_curve is deprecated; Function `plot_roc_curve` is deprecated in 1.0 and will be removed in 1.2. Use one of the class methods: RocCurveDisplay.from_predictions or RocCurveDisplay.from_estimator.\n",
            "  warnings.warn(msg, category=FutureWarning)\n"
          ]
        },
        {
          "output_type": "display_data",
          "data": {
            "image/png": "[encoded data removed]",
            "text/plain": [
              "<Figure size 432x288 with 1 Axes>"
            ]
          },
          "metadata": {
            "needs_background": "light"
          }
        }
      ],
      "source": [
        "metrics.plot_roc_curve(reg, X_test, Y_true, color='darkorange') \n",
        "plt.xlim([0.0, 1.0])\n",
        "plt.ylim([0.0, 1.05])\n",
        "plt.xlabel('False Positive Rate')\n",
        "plt.ylabel('True Positive Rate')\n",
        "plt.title('Receiver operating characteristic example')\n",
        "plt.legend(loc=\"lower right\")\n",
        "plt.plot([0, 1], [0, 1], color='navy', lw=2, linestyle='--')\n",
        "plt.show()"
      ]
    },
    {
      "cell_type": "code",
      "execution_count": 52,
      "metadata": {
        "id": "nOi_Zt0OaQ88"
      },
      "outputs": [],
      "source": [
        ""
      ]
    }
  ],
  "metadata": {
    "kernelspec": {
      "display_name": "Python 3",
      "language": "python",
      "name": "python3"
    },
    "language_info": {
      "codemirror_mode": {
        "name": "ipython",
        "version": 3
      },
      "file_extension": ".py",
      "mimetype": "text/x-python",
      "name": "python",
      "nbconvert_exporter": "python",
      "pygments_lexer": "ipython3",
      "version": "3.8.3"
    },
    "colab": {
      "name": "week6.ipynb",
      "provenance": []
    }
  },
  "nbformat": 4,
  "nbformat_minor": 0
}